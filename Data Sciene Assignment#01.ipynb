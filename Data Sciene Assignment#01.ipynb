{
 "cells": [
  {
   "cell_type": "code",
   "execution_count": 33,
   "metadata": {},
   "outputs": [],
   "source": [
    "#Muhammad Waleed\n",
    "#mwfarrukh@gmail.com\n",
    "#03115798967"
   ]
  },
  {
   "cell_type": "code",
   "execution_count": 34,
   "metadata": {},
   "outputs": [
    {
     "name": "stdout",
     "output_type": "stream",
     "text": [
      "Twinkle Twinkle, little star,\n",
      "\tHow i wonder what you are!\n",
      "\t\tUp above the world so high!\n",
      "\t\tLike the dimond in the sky!\n",
      "Twinkle Twinkle, little star,\n",
      "\tHow i wonder what you are!\n"
     ]
    }
   ],
   "source": [
    "#Question 1\n",
    "\n",
    "print(\"Twinkle Twinkle, little star,\\n\\tHow i wonder what you are!\\n\\t\\tUp above the world so high!\\n\\t\\tLike the dimond in the sky!\\nTwinkle Twinkle, little star,\\n\\tHow i wonder what you are!\")"
   ]
  },
  {
   "cell_type": "code",
   "execution_count": 35,
   "metadata": {},
   "outputs": [
    {
     "name": "stdout",
     "output_type": "stream",
     "text": [
      "0\n"
     ]
    }
   ],
   "source": [
    "#Question 2\n",
    "\n",
    "import os\n",
    "ver = os.system(\"python --version\")\n",
    "print(ver)"
   ]
  },
  {
   "cell_type": "code",
   "execution_count": 36,
   "metadata": {},
   "outputs": [
    {
     "name": "stdout",
     "output_type": "stream",
     "text": [
      "01 - 01 - 2022\n"
     ]
    }
   ],
   "source": [
    "#Question 3\n",
    "\n",
    "from datetime import datetime\n",
    "print(datetime.now().strftime(\"%d - %m - %Y\"))\n"
   ]
  },
  {
   "cell_type": "code",
   "execution_count": 37,
   "metadata": {},
   "outputs": [
    {
     "name": "stdout",
     "output_type": "stream",
     "text": [
      "113.09733552923255\n"
     ]
    }
   ],
   "source": [
    "#Question 4\n",
    "from math import pi\n",
    "\n",
    "radius = int(input(\"enetr the radius of the circle: \"))\n",
    "area = radius**2 * pi\n",
    "\n",
    "\n",
    "print(area)"
   ]
  },
  {
   "cell_type": "code",
   "execution_count": 38,
   "metadata": {},
   "outputs": [
    {
     "name": "stdout",
     "output_type": "stream",
     "text": [
      "5 4\n"
     ]
    }
   ],
   "source": [
    "#Question 5\n",
    "\n",
    "fname = input(\"Enter first name: \")\n",
    "lname = input(\"Enter last name: \")\n",
    "\n",
    "print(lname + \" \" + fname)"
   ]
  },
  {
   "cell_type": "code",
   "execution_count": 39,
   "metadata": {},
   "outputs": [
    {
     "name": "stdout",
     "output_type": "stream",
     "text": [
      "10\n"
     ]
    }
   ],
   "source": [
    "#Question 6\n",
    "\n",
    "a = int(input(\"Enter first number: \"))\n",
    "b = int(input(\"Enter second number: \"))\n",
    "sum = a+b\n",
    "print(sum)"
   ]
  }
 ],
 "metadata": {
  "interpreter": {
   "hash": "41a3fc4ba3f9fd056176eb38fb35a35ab88b2c8b61ad5c5fde69c1e63a533f63"
  },
  "kernelspec": {
   "display_name": "Python 3.9.6 64-bit",
   "language": "python",
   "name": "python3"
  },
  "language_info": {
   "codemirror_mode": {
    "name": "ipython",
    "version": 3
   },
   "file_extension": ".py",
   "mimetype": "text/x-python",
   "name": "python",
   "nbconvert_exporter": "python",
   "pygments_lexer": "ipython3",
   "version": "3.9.6"
  },
  "orig_nbformat": 4
 },
 "nbformat": 4,
 "nbformat_minor": 2
}
