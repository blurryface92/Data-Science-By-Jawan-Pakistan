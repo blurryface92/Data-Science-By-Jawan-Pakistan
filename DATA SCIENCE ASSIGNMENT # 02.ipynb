{
 "cells": [
  {
   "cell_type": "code",
   "execution_count": 13,
   "metadata": {},
   "outputs": [
    {
     "name": "stdout",
     "output_type": "stream",
     "text": [
      "   #                   NAME TYPE 1  TYPE 2  TOTAL  HP  ATTACK  DEFENSE  \\\n",
      "0  1              Bulbasaur  Grass  Poison    318  45      49       49   \n",
      "1  2                Ivysaur  Grass  Poison    405  60      62       63   \n",
      "2  3               Venusaur  Grass  Poison    525  80      82       83   \n",
      "3  3  VenusaurMega Venusaur  Grass  Poison    625  80     100      123   \n",
      "4  4             Charmander   Fire     NaN    309  39      52       43   \n",
      "\n",
      "   SP. ATK  SP. DEF  SPEED  GENERATION  LEGENDARY  high_low_speed  high_low_hp  \n",
      "0       65       65     45           1      False         68.2775     69.25875  \n",
      "1       80       80     60           1      False         68.2775     69.25875  \n",
      "2      100      100     80           1      False         68.2775     69.25875  \n",
      "3      122      120     80           1      False         68.2775     69.25875  \n",
      "4       60       50     65           1      False         68.2775     69.25875  \n",
      "                #      TOTAL          HP      ATTACK     DEFENSE     SP. ATK  \\\n",
      "count  800.000000  800.00000  800.000000  800.000000  800.000000  800.000000   \n",
      "mean   362.813750  435.10250   69.258750   79.001250   73.842500   72.820000   \n",
      "std    208.343798  119.96304   25.534669   32.457366   31.183501   32.722294   \n",
      "min      1.000000  180.00000    1.000000    5.000000    5.000000   10.000000   \n",
      "25%    184.750000  330.00000   50.000000   55.000000   50.000000   49.750000   \n",
      "50%    364.500000  450.00000   65.000000   75.000000   70.000000   65.000000   \n",
      "75%    539.250000  515.00000   80.000000  100.000000   90.000000   95.000000   \n",
      "max    721.000000  780.00000  255.000000  190.000000  230.000000  194.000000   \n",
      "\n",
      "          SP. DEF       SPEED  GENERATION  high_low_speed   high_low_hp  \n",
      "count  800.000000  800.000000   800.00000    8.000000e+02  8.000000e+02  \n",
      "mean    71.902500   68.277500     3.32375    6.827750e+01  6.925875e+01  \n",
      "std     27.828916   29.060474     1.66129    1.421974e-14  1.421974e-14  \n",
      "min     20.000000    5.000000     1.00000    6.827750e+01  6.925875e+01  \n",
      "25%     50.000000   45.000000     2.00000    6.827750e+01  6.925875e+01  \n",
      "50%     70.000000   65.000000     3.00000    6.827750e+01  6.925875e+01  \n",
      "75%     90.000000   90.000000     5.00000    6.827750e+01  6.925875e+01  \n",
      "max    230.000000  180.000000     6.00000    6.827750e+01  6.925875e+01  \n"
     ]
    }
   ],
   "source": [
    "#Assignment 02\n",
    "\n",
    "import pandas as pd\n",
    "\n",
    "data = pd.read_csv('Pokemon.csv')\n",
    "\n",
    "#add high_low_speed column\n",
    "data['high_low_speed'] = data['Speed'].mean()\n",
    "\n",
    "\n",
    "#add high_low_hp column\n",
    "data['high_low_hp'] = data['HP'].mean()\n",
    "print(data.head())\n",
    "\n",
    "print(data.describe())\n"
   ]
  },
  {
   "cell_type": "code",
   "execution_count": null,
   "metadata": {},
   "outputs": [],
   "source": []
  }
 ],
 "metadata": {
  "interpreter": {
   "hash": "ac59ebe37160ed0dfa835113d9b8498d9f09ceb179beaac4002f036b9467c963"
  },
  "kernelspec": {
   "display_name": "Python 3.9.8 64-bit",
   "language": "python",
   "name": "python3"
  },
  "language_info": {
   "codemirror_mode": {
    "name": "ipython",
    "version": 3
   },
   "file_extension": ".py",
   "mimetype": "text/x-python",
   "name": "python",
   "nbconvert_exporter": "python",
   "pygments_lexer": "ipython3",
   "version": "3.9.8"
  },
  "orig_nbformat": 4
 },
 "nbformat": 4,
 "nbformat_minor": 2
}
